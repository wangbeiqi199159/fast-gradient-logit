{
 "cells": [
  {
   "cell_type": "markdown",
   "metadata": {
    "collapsed": false
   },
   "source": [
    "# FastGradRidgeLogit Demo on Real World Dataset\n"
   ]
  },
  {
   "cell_type": "markdown",
   "metadata": {},
   "source": [
    "## About Data\n",
    "\n",
    "#### Data Name:  \n",
    "\n",
    "SPAM E-mail Data\n",
    "\n",
    "#### Description:\n",
    "\n",
    "Number of Instances: 4601 (1813 Spam = 39.4%)\n",
    "\n",
    "Number of Attributes: 58 (57 continuous, 1 nominal class label)\n",
    "\n",
    "The last column of 'spambase.data' denotes whether the e-mail was \n",
    "considered spam (1) or not (0)\n",
    "\n",
    "To explore full documentation of the data set, please check [https://statweb.stanford.edu/~tibs/ElemStatLearn/datasets/spam.info.txt](https://statweb.stanford.edu/~tibs/ElemStatLearn/datasets/spam.info.txt)\n",
    "\n",
    "## Data Process Before Model Training\n",
    "\n"
   ]
  },
  {
   "cell_type": "code",
   "execution_count": 1,
   "metadata": {
    "collapsed": false
   },
   "outputs": [],
   "source": [
    "import pandas as pd\n",
    "import numpy as np\n",
    "import sklearn.preprocessing\n",
    "\n",
    "spam = pd.read_table('https://statweb.stanford.edu/~tibs/ElemStatLearn/datasets/spam.data', sep=' ', header=None)\n",
    "test_indicator = pd.read_table('https://statweb.stanford.edu/~tibs/ElemStatLearn/datasets/spam.traintest', sep=' ',\n",
    "                               header=None)\n",
    "\n",
    "x = np.asarray(spam)[:, 0:-1]\n",
    "y = np.asarray(spam)[:, -1]*2 - 1  # Convert to +/- 1\n",
    "test_indicator = np.array(test_indicator).T[0]\n",
    "\n",
    "# Divide the data into train, test sets\n",
    "x_train = x[test_indicator == 0, :]\n",
    "x_test = x[test_indicator == 1, :]\n",
    "y_train = y[test_indicator == 0]\n",
    "y_test = y[test_indicator == 1]\n",
    "\n",
    "# Standardize the data. \n",
    "scaler = sklearn.preprocessing.StandardScaler()\n",
    "scaler.fit(x_train)\n",
    "x_train = scaler.transform(x_train)\n",
    "x_test = scaler.transform(x_test)"
   ]
  },
  {
   "cell_type": "markdown",
   "metadata": {},
   "source": [
    "## Train Model Using FastGradRidgeLogit"
   ]
  },
  {
   "cell_type": "code",
   "execution_count": 2,
   "metadata": {
    "collapsed": false
   },
   "outputs": [],
   "source": [
    "from fgrlogit import FastGradRidgeLogit\n",
    "\n",
    "fg = FastGradRidgeLogit()"
   ]
  },
  {
   "cell_type": "markdown",
   "metadata": {},
   "source": [
    "**FastGradRidgeLogit.fit(lambduh, x, y, maxiter = 300)**\n",
    "\n",
    "Fit the model with x_train dataset and y_train dataset."
   ]
  },
  {
   "cell_type": "code",
   "execution_count": 3,
   "metadata": {
    "collapsed": false
   },
   "outputs": [
    {
     "name": "stdout",
     "output_type": "stream",
     "text": [
      "Start fast gradient descent:\n",
      "Fast gradient iteration 100\n",
      "Fast gradient iteration 200\n",
      "Fast gradient iteration 300\n"
     ]
    },
    {
     "data": {
      "text/plain": [
       "array([[ 0.        ,  0.        ,  0.        , ...,  0.        ,\n",
       "         0.        ,  0.        ],\n",
       "       [ 0.00811784, -0.00290854,  0.01525627, ...,  0.00797122,\n",
       "         0.01367347,  0.01683449],\n",
       "       [ 0.01430038, -0.00561651,  0.02786037, ...,  0.01446999,\n",
       "         0.02484187,  0.0308083 ],\n",
       "       ..., \n",
       "       [ 0.02117346, -0.03877587,  0.0977377 , ...,  0.06871946,\n",
       "         0.12509328,  0.14818874],\n",
       "       [ 0.02117345, -0.03877587,  0.09773769, ...,  0.06871949,\n",
       "         0.12509325,  0.14818874],\n",
       "       [ 0.02117345, -0.03877586,  0.09773769, ...,  0.0687195 ,\n",
       "         0.12509324,  0.14818872]])"
      ]
     },
     "execution_count": 3,
     "metadata": {},
     "output_type": "execute_result"
    }
   ],
   "source": [
    "fg.fit(lambduh = 0.1,x = x_train,y = y_train)"
   ]
  },
  {
   "cell_type": "markdown",
   "metadata": {},
   "source": [
    "**FastGradRidgeLogit.plot_objective( )**\n",
    "\n",
    "After fitting the model, we can visualize the objective value change through the iteration by calling plot_objective()."
   ]
  },
  {
   "cell_type": "code",
   "execution_count": 4,
   "metadata": {
    "collapsed": false
   },
   "outputs": [
    {
     "data": {
      "image/png": "[encoded data removed]",
      "text/plain": [
       "<matplotlib.figure.Figure at 0x117e40c50>"
      ]
     },
     "metadata": {},
     "output_type": "display_data"
    }
   ],
   "source": [
    "fg.plot_objective()"
   ]
  },
  {
   "cell_type": "markdown",
   "metadata": {},
   "source": [
    "**FastGradRidgeLogit.plot_misclassification_error( )**\n",
    "\n",
    "After fitting the model, we can also visualize the model performance through the iteration by calling plot_misclassification_error()."
   ]
  },
  {
   "cell_type": "code",
   "execution_count": 5,
   "metadata": {
    "collapsed": false
   },
   "outputs": [
    {
     "data": {
      "image/png": "[encoded data removed]",
      "text/plain": [
       "<matplotlib.figure.Figure at 0x117eb3a20>"
      ]
     },
     "metadata": {},
     "output_type": "display_data"
    }
   ],
   "source": [
    "fg.plot_misclassification_error()"
   ]
  },
  {
   "cell_type": "code",
   "execution_count": null,
   "metadata": {
    "collapsed": true
   },
   "outputs": [],
   "source": []
  }
 ],
 "metadata": {
  "kernelspec": {
   "display_name": "Python 3",
   "language": "python",
   "name": "python3"
  },
  "language_info": {
   "codemirror_mode": {
    "name": "ipython",
    "version": 3
   },
   "file_extension": ".py",
   "mimetype": "text/x-python",
   "name": "python",
   "nbconvert_exporter": "python",
   "pygments_lexer": "ipython3",
   "version": "3.6.0"
  }
 },
 "nbformat": 4,
 "nbformat_minor": 2
}
