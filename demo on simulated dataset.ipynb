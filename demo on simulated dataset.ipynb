{
 "cells": [
  {
   "cell_type": "markdown",
   "metadata": {
    "collapsed": false
   },
   "source": [
    "# FastGradRidgeLogit Demo on Simulated Dataset\n"
   ]
  },
  {
   "cell_type": "markdown",
   "metadata": {},
   "source": [
    "## About Data\n",
    "\n",
    "A simulated data set with two classes. Each class has 30 observations and 50 variables. Class 1 is denoted by 1, class 2 is denoted by 0.\n",
    "\n",
    "## Data Process Before Model Training\n"
   ]
  },
  {
   "cell_type": "code",
   "execution_count": 15,
   "metadata": {
    "collapsed": false
   },
   "outputs": [],
   "source": [
    "import pandas as pd\n",
    "import numpy as np\n",
    "import sklearn.preprocessing\n",
    "\n",
    "# Generate simulated dataset\n",
    "np.random.seed(123)\n",
    "cls1 = np.random.normal(0,2,(30,50))\n",
    "cls2 = np.random.normal(1,2,(30,50))\n",
    "x_train = np.concatenate((cls1,cls2), axis = 0)\n",
    "\n",
    "y1 = np.ones(30)\n",
    "y2 = np.zeros(30)\n",
    "y_train = np.concatenate((y1,y2))\n",
    "y_train = y_train*2 - 1  # Convert to +/- 1\n",
    "\n",
    "# Standardize the data. \n",
    "scaler = sklearn.preprocessing.StandardScaler()\n",
    "scaler.fit(x_train)\n",
    "x_train = scaler.transform(x_train)"
   ]
  },
  {
   "cell_type": "markdown",
   "metadata": {},
   "source": [
    "## Train Model Using FastGradRidgeLogit"
   ]
  },
  {
   "cell_type": "code",
   "execution_count": 16,
   "metadata": {
    "collapsed": false
   },
   "outputs": [],
   "source": [
    "from fgrlogit import FastGradRidgeLogit\n",
    "\n",
    "fg = FastGradRidgeLogit()"
   ]
  },
  {
   "cell_type": "markdown",
   "metadata": {},
   "source": [
    "**FastGradRidgeLogit.fit(lambduh, x, y, maxiter = 300)**\n",
    "\n",
    "Fit the model with x_train dataset and y_train dataset."
   ]
  },
  {
   "cell_type": "code",
   "execution_count": 17,
   "metadata": {
    "collapsed": false
   },
   "outputs": [
    {
     "name": "stdout",
     "output_type": "stream",
     "text": [
      "Start fast gradient descent:\n",
      "Fast gradient iteration 100\n",
      "Fast gradient iteration 200\n",
      "Fast gradient iteration 300\n"
     ]
    },
    {
     "data": {
      "text/plain": [
       "array([[ 0.        ,  0.        ,  0.        , ...,  0.        ,\n",
       "         0.        ,  0.        ],\n",
       "       [ 0.00276515, -0.04630969, -0.01086065, ..., -0.03307104,\n",
       "        -0.01607501, -0.02752706],\n",
       "       [ 0.00278093, -0.08136656, -0.01868523, ..., -0.05807815,\n",
       "        -0.02780495, -0.04704611],\n",
       "       ..., \n",
       "       [-0.05155594, -0.26149305, -0.04347404, ..., -0.18964467,\n",
       "        -0.08840261, -0.12299439],\n",
       "       [-0.05155594, -0.26149305, -0.04347404, ..., -0.18964468,\n",
       "        -0.08840261, -0.1229944 ],\n",
       "       [-0.05155594, -0.26149306, -0.04347405, ..., -0.18964468,\n",
       "        -0.08840261, -0.12299441]])"
      ]
     },
     "execution_count": 17,
     "metadata": {},
     "output_type": "execute_result"
    }
   ],
   "source": [
    "fg.fit(lambduh = 0.1,x = x_train,y = y_train)"
   ]
  },
  {
   "cell_type": "markdown",
   "metadata": {},
   "source": [
    "**FastGradRidgeLogit.plot_objective( )**\n",
    "\n",
    "After fitting the model, we can visualize the objective value change through the iteration by calling plot_objective()."
   ]
  },
  {
   "cell_type": "code",
   "execution_count": 18,
   "metadata": {
    "collapsed": false
   },
   "outputs": [
    {
     "data": {
      "image/png": "[encoded data removed]",
      "text/plain": [
       "<matplotlib.figure.Figure at 0x10d790c88>"
      ]
     },
     "metadata": {},
     "output_type": "display_data"
    }
   ],
   "source": [
    "fg.plot_objective()"
   ]
  },
  {
   "cell_type": "markdown",
   "metadata": {},
   "source": [
    "**FastGradRidgeLogit.plot_misclassification_error( )**\n",
    "\n",
    "After fitting the model, we can also visualize the model performance through the iteration by calling plot_misclassification_error()."
   ]
  },
  {
   "cell_type": "code",
   "execution_count": 19,
   "metadata": {
    "collapsed": false
   },
   "outputs": [
    {
     "data": {
      "image/png": "[encoded data removed]",
      "text/plain": [
       "<matplotlib.figure.Figure at 0x111317b38>"
      ]
     },
     "metadata": {},
     "output_type": "display_data"
    }
   ],
   "source": [
    "fg.plot_misclassification_error()"
   ]
  },
  {
   "cell_type": "code",
   "execution_count": null,
   "metadata": {
    "collapsed": true
   },
   "outputs": [],
   "source": []
  }
 ],
 "metadata": {
  "kernelspec": {
   "display_name": "Python 3",
   "language": "python",
   "name": "python3"
  },
  "language_info": {
   "codemirror_mode": {
    "name": "ipython",
    "version": 3
   },
   "file_extension": ".py",
   "mimetype": "text/x-python",
   "name": "python",
   "nbconvert_exporter": "python",
   "pygments_lexer": "ipython3",
   "version": "3.6.0"
  }
 },
 "nbformat": 4,
 "nbformat_minor": 2
}
